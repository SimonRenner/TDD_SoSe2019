{
 "cells": [
  {
   "cell_type": "markdown",
   "metadata": {},
   "source": [
    "# What is a test?"
   ]
  },
  {
   "cell_type": "markdown",
   "metadata": {},
   "source": [
    "### The assert statement\n",
    "\n",
    "`assert` is a built-in python statement that checks if the expression following it is true or false. If it is false, an error is raised."
   ]
  },
  {
   "cell_type": "code",
   "execution_count": 1,
   "metadata": {},
   "outputs": [],
   "source": [
    "assert True"
   ]
  },
  {
   "cell_type": "code",
   "execution_count": 2,
   "metadata": {},
   "outputs": [
    {
     "ename": "AssertionError",
     "evalue": "",
     "output_type": "error",
     "traceback": [
      "\u001b[0;31m---------------------------------------------------------------------------\u001b[0m",
      "\u001b[0;31mAssertionError\u001b[0m                            Traceback (most recent call last)",
      "\u001b[0;32m<ipython-input-2-a871fdc9ebee>\u001b[0m in \u001b[0;36m<module>\u001b[0;34m\u001b[0m\n\u001b[0;32m----> 1\u001b[0;31m \u001b[0;32massert\u001b[0m \u001b[0;32mFalse\u001b[0m\u001b[0;34m\u001b[0m\u001b[0;34m\u001b[0m\u001b[0m\n\u001b[0m",
      "\u001b[0;31mAssertionError\u001b[0m: "
     ]
    }
   ],
   "source": [
    "assert False"
   ]
  },
  {
   "cell_type": "markdown",
   "metadata": {},
   "source": [
    "`assert` is the core of all testing since it is used to check if something is the way we want it to be."
   ]
  },
  {
   "cell_type": "markdown",
   "metadata": {},
   "source": [
    "We can check if variables have the value we want them to have..."
   ]
  },
  {
   "cell_type": "code",
   "execution_count": null,
   "metadata": {},
   "outputs": [],
   "source": [
    "a=3"
   ]
  },
  {
   "cell_type": "code",
   "execution_count": null,
   "metadata": {},
   "outputs": [],
   "source": [
    "assert a==3"
   ]
  },
  {
   "cell_type": "code",
   "execution_count": 3,
   "metadata": {},
   "outputs": [
    {
     "ename": "NameError",
     "evalue": "name 'a' is not defined",
     "output_type": "error",
     "traceback": [
      "\u001b[0;31m---------------------------------------------------------------------------\u001b[0m",
      "\u001b[0;31mNameError\u001b[0m                                 Traceback (most recent call last)",
      "\u001b[0;32m<ipython-input-3-839d79531a1d>\u001b[0m in \u001b[0;36m<module>\u001b[0;34m\u001b[0m\n\u001b[0;32m----> 1\u001b[0;31m \u001b[0;32massert\u001b[0m \u001b[0ma\u001b[0m\u001b[0;34m==\u001b[0m\u001b[0;36m4\u001b[0m\u001b[0;34m\u001b[0m\u001b[0;34m\u001b[0m\u001b[0m\n\u001b[0m",
      "\u001b[0;31mNameError\u001b[0m: name 'a' is not defined"
     ]
    }
   ],
   "source": [
    "assert a==4"
   ]
  },
  {
   "cell_type": "markdown",
   "metadata": {},
   "source": [
    "...or if they are of a specific type"
   ]
  },
  {
   "cell_type": "code",
   "execution_count": 4,
   "metadata": {},
   "outputs": [
    {
     "ename": "NameError",
     "evalue": "name 'a' is not defined",
     "output_type": "error",
     "traceback": [
      "\u001b[0;31m---------------------------------------------------------------------------\u001b[0m",
      "\u001b[0;31mNameError\u001b[0m                                 Traceback (most recent call last)",
      "\u001b[0;32m<ipython-input-4-f2c54e71599c>\u001b[0m in \u001b[0;36m<module>\u001b[0;34m\u001b[0m\n\u001b[0;32m----> 1\u001b[0;31m \u001b[0;32massert\u001b[0m \u001b[0mtype\u001b[0m\u001b[0;34m(\u001b[0m\u001b[0ma\u001b[0m\u001b[0;34m)\u001b[0m \u001b[0;34m==\u001b[0m \u001b[0mint\u001b[0m\u001b[0;34m\u001b[0m\u001b[0;34m\u001b[0m\u001b[0m\n\u001b[0m",
      "\u001b[0;31mNameError\u001b[0m: name 'a' is not defined"
     ]
    }
   ],
   "source": [
    "assert type(a) == int"
   ]
  },
  {
   "cell_type": "code",
   "execution_count": 5,
   "metadata": {},
   "outputs": [
    {
     "ename": "NameError",
     "evalue": "name 'a' is not defined",
     "output_type": "error",
     "traceback": [
      "\u001b[0;31m---------------------------------------------------------------------------\u001b[0m",
      "\u001b[0;31mNameError\u001b[0m                                 Traceback (most recent call last)",
      "\u001b[0;32m<ipython-input-5-de59bf0e7d94>\u001b[0m in \u001b[0;36m<module>\u001b[0;34m\u001b[0m\n\u001b[0;32m----> 1\u001b[0;31m \u001b[0;32massert\u001b[0m \u001b[0mtype\u001b[0m\u001b[0;34m(\u001b[0m\u001b[0ma\u001b[0m\u001b[0;34m)\u001b[0m \u001b[0;34m==\u001b[0m \u001b[0mfloat\u001b[0m\u001b[0;34m\u001b[0m\u001b[0;34m\u001b[0m\u001b[0m\n\u001b[0m",
      "\u001b[0;31mNameError\u001b[0m: name 'a' is not defined"
     ]
    }
   ],
   "source": [
    "assert type(a) == float"
   ]
  },
  {
   "cell_type": "markdown",
   "metadata": {},
   "source": [
    "We can use `assert` within scripts to make sure things are going the way we want them to go but the real power of the statement comes from its use in unit tests."
   ]
  },
  {
   "cell_type": "markdown",
   "metadata": {},
   "source": [
    "### Unit test"
   ]
  },
  {
   "cell_type": "markdown",
   "metadata": {},
   "source": [
    "At some point, we will start to use functions to reuse parts of our code in different settings and this is where unit tests come in very helpful. A unit test is a small function that test a feature of a function we want to implement. Let's say we have the following function:"
   ]
  },
  {
   "cell_type": "code",
   "execution_count": 6,
   "metadata": {},
   "outputs": [],
   "source": [
    "def add_three(x):\n",
    "    return x+3"
   ]
  },
  {
   "cell_type": "markdown",
   "metadata": {},
   "source": [
    "If we want to make sure it is doing its job, we can write the following unit test that checks one example test case:"
   ]
  },
  {
   "cell_type": "code",
   "execution_count": 7,
   "metadata": {},
   "outputs": [],
   "source": [
    "def test_add_three():\n",
    "    x = 1\n",
    "    assert add_three(x) == 4"
   ]
  },
  {
   "cell_type": "markdown",
   "metadata": {},
   "source": [
    "If we run this function and everything is correct, nothing should happen."
   ]
  },
  {
   "cell_type": "code",
   "execution_count": 8,
   "metadata": {},
   "outputs": [],
   "source": [
    "test_add_three()"
   ]
  },
  {
   "cell_type": "markdown",
   "metadata": {},
   "source": [
    "Nice. Let's pretend we had made a mistake in writing our function by only adding 2 instead of 3:"
   ]
  },
  {
   "cell_type": "code",
   "execution_count": 9,
   "metadata": {},
   "outputs": [],
   "source": [
    "def add_three(x):\n",
    "    return x+2"
   ]
  },
  {
   "cell_type": "code",
   "execution_count": 10,
   "metadata": {},
   "outputs": [
    {
     "ename": "AssertionError",
     "evalue": "",
     "output_type": "error",
     "traceback": [
      "\u001b[0;31m---------------------------------------------------------------------------\u001b[0m",
      "\u001b[0;31mAssertionError\u001b[0m                            Traceback (most recent call last)",
      "\u001b[0;32m<ipython-input-10-b76838c62040>\u001b[0m in \u001b[0;36m<module>\u001b[0;34m\u001b[0m\n\u001b[0;32m----> 1\u001b[0;31m \u001b[0mtest_add_three\u001b[0m\u001b[0;34m(\u001b[0m\u001b[0;34m)\u001b[0m\u001b[0;34m\u001b[0m\u001b[0;34m\u001b[0m\u001b[0m\n\u001b[0m",
      "\u001b[0;32m<ipython-input-7-4fcc58331b00>\u001b[0m in \u001b[0;36mtest_add_three\u001b[0;34m()\u001b[0m\n\u001b[1;32m      1\u001b[0m \u001b[0;32mdef\u001b[0m \u001b[0mtest_add_three\u001b[0m\u001b[0;34m(\u001b[0m\u001b[0;34m)\u001b[0m\u001b[0;34m:\u001b[0m\u001b[0;34m\u001b[0m\u001b[0;34m\u001b[0m\u001b[0m\n\u001b[1;32m      2\u001b[0m     \u001b[0mx\u001b[0m \u001b[0;34m=\u001b[0m \u001b[0;36m1\u001b[0m\u001b[0;34m\u001b[0m\u001b[0;34m\u001b[0m\u001b[0m\n\u001b[0;32m----> 3\u001b[0;31m     \u001b[0;32massert\u001b[0m \u001b[0madd_three\u001b[0m\u001b[0;34m(\u001b[0m\u001b[0mx\u001b[0m\u001b[0;34m)\u001b[0m \u001b[0;34m==\u001b[0m \u001b[0;36m4\u001b[0m\u001b[0;34m\u001b[0m\u001b[0;34m\u001b[0m\u001b[0m\n\u001b[0m",
      "\u001b[0;31mAssertionError\u001b[0m: "
     ]
    }
   ],
   "source": [
    "test_add_three()"
   ]
  },
  {
   "cell_type": "markdown",
   "metadata": {},
   "source": [
    "In this case, the test would have spotted this mistake, giving us a chance to correct our mistake."
   ]
  },
  {
   "cell_type": "markdown",
   "metadata": {},
   "source": [
    "# What is TDD?"
   ]
  },
  {
   "cell_type": "markdown",
   "metadata": {},
   "source": [
    "Test-driven development works by constantly using tests as you write your code. The key point here is that you *first* define what you want your code to do by writing a test and then work on your code until it passes your test."
   ]
  },
  {
   "cell_type": "markdown",
   "metadata": {},
   "source": [
    "### TDD: write a test, write code until the test passes, repeat"
   ]
  },
  {
   "cell_type": "markdown",
   "metadata": {},
   "source": [
    "#### Example: turn a string into a number\n",
    "We will start really simple by defining one test case and writing the simplest possible code to pass that test case. We do this by always just writing the code that takes care of the current error. As long as we are always taking care of the current error we will eventually come to something that actually does the job we want it to do."
   ]
  },
  {
   "cell_type": "markdown",
   "metadata": {},
   "source": [
    "#### Round 1"
   ]
  },
  {
   "cell_type": "code",
   "execution_count": 11,
   "metadata": {},
   "outputs": [],
   "source": [
    "def test_string_to_number():\n",
    "    mystring = '1'\n",
    "    assert string_to_number(mystring) == 1"
   ]
  },
  {
   "cell_type": "code",
   "execution_count": 12,
   "metadata": {},
   "outputs": [
    {
     "ename": "NameError",
     "evalue": "name 'string_to_number' is not defined",
     "output_type": "error",
     "traceback": [
      "\u001b[0;31m---------------------------------------------------------------------------\u001b[0m",
      "\u001b[0;31mNameError\u001b[0m                                 Traceback (most recent call last)",
      "\u001b[0;32m<ipython-input-12-96da58b7f776>\u001b[0m in \u001b[0;36m<module>\u001b[0;34m\u001b[0m\n\u001b[0;32m----> 1\u001b[0;31m \u001b[0mtest_string_to_number\u001b[0m\u001b[0;34m(\u001b[0m\u001b[0;34m)\u001b[0m\u001b[0;34m\u001b[0m\u001b[0;34m\u001b[0m\u001b[0m\n\u001b[0m",
      "\u001b[0;32m<ipython-input-11-8f93d8209d03>\u001b[0m in \u001b[0;36mtest_string_to_number\u001b[0;34m()\u001b[0m\n\u001b[1;32m      1\u001b[0m \u001b[0;32mdef\u001b[0m \u001b[0mtest_string_to_number\u001b[0m\u001b[0;34m(\u001b[0m\u001b[0;34m)\u001b[0m\u001b[0;34m:\u001b[0m\u001b[0;34m\u001b[0m\u001b[0;34m\u001b[0m\u001b[0m\n\u001b[1;32m      2\u001b[0m     \u001b[0mmystring\u001b[0m \u001b[0;34m=\u001b[0m \u001b[0;34m'1'\u001b[0m\u001b[0;34m\u001b[0m\u001b[0;34m\u001b[0m\u001b[0m\n\u001b[0;32m----> 3\u001b[0;31m     \u001b[0;32massert\u001b[0m \u001b[0mstring_to_number\u001b[0m\u001b[0;34m(\u001b[0m\u001b[0mmystring\u001b[0m\u001b[0;34m)\u001b[0m \u001b[0;34m==\u001b[0m \u001b[0;36m1\u001b[0m\u001b[0;34m\u001b[0m\u001b[0;34m\u001b[0m\u001b[0m\n\u001b[0m",
      "\u001b[0;31mNameError\u001b[0m: name 'string_to_number' is not defined"
     ]
    }
   ],
   "source": [
    "test_string_to_number()"
   ]
  },
  {
   "cell_type": "code",
   "execution_count": 13,
   "metadata": {},
   "outputs": [],
   "source": [
    "def string_to_number():\n",
    "    pass"
   ]
  },
  {
   "cell_type": "code",
   "execution_count": 14,
   "metadata": {},
   "outputs": [
    {
     "ename": "TypeError",
     "evalue": "string_to_number() takes 0 positional arguments but 1 was given",
     "output_type": "error",
     "traceback": [
      "\u001b[0;31m---------------------------------------------------------------------------\u001b[0m",
      "\u001b[0;31mTypeError\u001b[0m                                 Traceback (most recent call last)",
      "\u001b[0;32m<ipython-input-14-96da58b7f776>\u001b[0m in \u001b[0;36m<module>\u001b[0;34m\u001b[0m\n\u001b[0;32m----> 1\u001b[0;31m \u001b[0mtest_string_to_number\u001b[0m\u001b[0;34m(\u001b[0m\u001b[0;34m)\u001b[0m\u001b[0;34m\u001b[0m\u001b[0;34m\u001b[0m\u001b[0m\n\u001b[0m",
      "\u001b[0;32m<ipython-input-11-8f93d8209d03>\u001b[0m in \u001b[0;36mtest_string_to_number\u001b[0;34m()\u001b[0m\n\u001b[1;32m      1\u001b[0m \u001b[0;32mdef\u001b[0m \u001b[0mtest_string_to_number\u001b[0m\u001b[0;34m(\u001b[0m\u001b[0;34m)\u001b[0m\u001b[0;34m:\u001b[0m\u001b[0;34m\u001b[0m\u001b[0;34m\u001b[0m\u001b[0m\n\u001b[1;32m      2\u001b[0m     \u001b[0mmystring\u001b[0m \u001b[0;34m=\u001b[0m \u001b[0;34m'1'\u001b[0m\u001b[0;34m\u001b[0m\u001b[0;34m\u001b[0m\u001b[0m\n\u001b[0;32m----> 3\u001b[0;31m     \u001b[0;32massert\u001b[0m \u001b[0mstring_to_number\u001b[0m\u001b[0;34m(\u001b[0m\u001b[0mmystring\u001b[0m\u001b[0;34m)\u001b[0m \u001b[0;34m==\u001b[0m \u001b[0;36m1\u001b[0m\u001b[0;34m\u001b[0m\u001b[0;34m\u001b[0m\u001b[0m\n\u001b[0m",
      "\u001b[0;31mTypeError\u001b[0m: string_to_number() takes 0 positional arguments but 1 was given"
     ]
    }
   ],
   "source": [
    "test_string_to_number()"
   ]
  },
  {
   "cell_type": "code",
   "execution_count": 15,
   "metadata": {},
   "outputs": [],
   "source": [
    "def string_to_number(mystring):\n",
    "    pass"
   ]
  },
  {
   "cell_type": "code",
   "execution_count": 16,
   "metadata": {},
   "outputs": [
    {
     "ename": "AssertionError",
     "evalue": "",
     "output_type": "error",
     "traceback": [
      "\u001b[0;31m---------------------------------------------------------------------------\u001b[0m",
      "\u001b[0;31mAssertionError\u001b[0m                            Traceback (most recent call last)",
      "\u001b[0;32m<ipython-input-16-96da58b7f776>\u001b[0m in \u001b[0;36m<module>\u001b[0;34m\u001b[0m\n\u001b[0;32m----> 1\u001b[0;31m \u001b[0mtest_string_to_number\u001b[0m\u001b[0;34m(\u001b[0m\u001b[0;34m)\u001b[0m\u001b[0;34m\u001b[0m\u001b[0;34m\u001b[0m\u001b[0m\n\u001b[0m",
      "\u001b[0;32m<ipython-input-11-8f93d8209d03>\u001b[0m in \u001b[0;36mtest_string_to_number\u001b[0;34m()\u001b[0m\n\u001b[1;32m      1\u001b[0m \u001b[0;32mdef\u001b[0m \u001b[0mtest_string_to_number\u001b[0m\u001b[0;34m(\u001b[0m\u001b[0;34m)\u001b[0m\u001b[0;34m:\u001b[0m\u001b[0;34m\u001b[0m\u001b[0;34m\u001b[0m\u001b[0m\n\u001b[1;32m      2\u001b[0m     \u001b[0mmystring\u001b[0m \u001b[0;34m=\u001b[0m \u001b[0;34m'1'\u001b[0m\u001b[0;34m\u001b[0m\u001b[0;34m\u001b[0m\u001b[0m\n\u001b[0;32m----> 3\u001b[0;31m     \u001b[0;32massert\u001b[0m \u001b[0mstring_to_number\u001b[0m\u001b[0;34m(\u001b[0m\u001b[0mmystring\u001b[0m\u001b[0;34m)\u001b[0m \u001b[0;34m==\u001b[0m \u001b[0;36m1\u001b[0m\u001b[0;34m\u001b[0m\u001b[0;34m\u001b[0m\u001b[0m\n\u001b[0m",
      "\u001b[0;31mAssertionError\u001b[0m: "
     ]
    }
   ],
   "source": [
    "test_string_to_number()"
   ]
  },
  {
   "cell_type": "markdown",
   "metadata": {},
   "source": [
    "We are now at the assertion error which means that we have gotten to the actual functionality of our code. Let's use the simplest possible code to pass the test."
   ]
  },
  {
   "cell_type": "code",
   "execution_count": 17,
   "metadata": {},
   "outputs": [],
   "source": [
    "def string_to_number(mystring):\n",
    "    if mystring=='1':\n",
    "        return 1"
   ]
  },
  {
   "cell_type": "code",
   "execution_count": 18,
   "metadata": {},
   "outputs": [],
   "source": [
    "test_string_to_number()"
   ]
  },
  {
   "cell_type": "markdown",
   "metadata": {},
   "source": [
    "Nice, we completed our first run of TDD. Time to write a new test."
   ]
  },
  {
   "cell_type": "markdown",
   "metadata": {},
   "source": [
    "#### Round 2"
   ]
  },
  {
   "cell_type": "markdown",
   "metadata": {},
   "source": [
    "We add a second test case and then run *both* of our tests. We always run all of our tests to make sure that we notice if we acidentally break something that was working before."
   ]
  },
  {
   "cell_type": "code",
   "execution_count": 19,
   "metadata": {},
   "outputs": [],
   "source": [
    "def test_string_to_number_1():\n",
    "    mystring = '1'\n",
    "    assert string_to_number(mystring) == 1\n",
    "def test_string_to_number_2():\n",
    "    mystring = '2'\n",
    "    assert string_to_number(mystring) == 2"
   ]
  },
  {
   "cell_type": "code",
   "execution_count": 20,
   "metadata": {},
   "outputs": [
    {
     "ename": "AssertionError",
     "evalue": "",
     "output_type": "error",
     "traceback": [
      "\u001b[0;31m---------------------------------------------------------------------------\u001b[0m",
      "\u001b[0;31mAssertionError\u001b[0m                            Traceback (most recent call last)",
      "\u001b[0;32m<ipython-input-20-299a998b2f83>\u001b[0m in \u001b[0;36m<module>\u001b[0;34m\u001b[0m\n\u001b[1;32m      1\u001b[0m \u001b[0mtest_string_to_number_1\u001b[0m\u001b[0;34m(\u001b[0m\u001b[0;34m)\u001b[0m\u001b[0;34m\u001b[0m\u001b[0;34m\u001b[0m\u001b[0m\n\u001b[0;32m----> 2\u001b[0;31m \u001b[0mtest_string_to_number_2\u001b[0m\u001b[0;34m(\u001b[0m\u001b[0;34m)\u001b[0m\u001b[0;34m\u001b[0m\u001b[0;34m\u001b[0m\u001b[0m\n\u001b[0m",
      "\u001b[0;32m<ipython-input-19-bf0b5a2315d7>\u001b[0m in \u001b[0;36mtest_string_to_number_2\u001b[0;34m()\u001b[0m\n\u001b[1;32m      4\u001b[0m \u001b[0;32mdef\u001b[0m \u001b[0mtest_string_to_number_2\u001b[0m\u001b[0;34m(\u001b[0m\u001b[0;34m)\u001b[0m\u001b[0;34m:\u001b[0m\u001b[0;34m\u001b[0m\u001b[0;34m\u001b[0m\u001b[0m\n\u001b[1;32m      5\u001b[0m     \u001b[0mmystring\u001b[0m \u001b[0;34m=\u001b[0m \u001b[0;34m'2'\u001b[0m\u001b[0;34m\u001b[0m\u001b[0;34m\u001b[0m\u001b[0m\n\u001b[0;32m----> 6\u001b[0;31m     \u001b[0;32massert\u001b[0m \u001b[0mstring_to_number\u001b[0m\u001b[0;34m(\u001b[0m\u001b[0mmystring\u001b[0m\u001b[0;34m)\u001b[0m \u001b[0;34m==\u001b[0m \u001b[0;36m2\u001b[0m\u001b[0;34m\u001b[0m\u001b[0;34m\u001b[0m\u001b[0m\n\u001b[0m",
      "\u001b[0;31mAssertionError\u001b[0m: "
     ]
    }
   ],
   "source": [
    "test_string_to_number_1()\n",
    "test_string_to_number_2()"
   ]
  },
  {
   "cell_type": "markdown",
   "metadata": {},
   "source": [
    "Again, simple code to fix the error"
   ]
  },
  {
   "cell_type": "code",
   "execution_count": 21,
   "metadata": {},
   "outputs": [],
   "source": [
    "def string_to_number(mystring):\n",
    "    if mystring=='1':\n",
    "        return 1\n",
    "    elif mystring=='2':\n",
    "        return 2"
   ]
  },
  {
   "cell_type": "code",
   "execution_count": 22,
   "metadata": {},
   "outputs": [],
   "source": [
    "test_string_to_number_1()\n",
    "test_string_to_number_2()"
   ]
  },
  {
   "cell_type": "markdown",
   "metadata": {},
   "source": [
    "Nice. The idea would now be that we continue until we have our desired functionality."
   ]
  },
  {
   "cell_type": "markdown",
   "metadata": {},
   "source": [
    "# Setting up a TDD environment"
   ]
  },
  {
   "cell_type": "markdown",
   "metadata": {},
   "source": [
    "### My usual way"
   ]
  },
  {
   "cell_type": "markdown",
   "metadata": {},
   "source": [
    "Because using TDD essentially means circling between your tests, your functions and running the tests, it can feel a little clumsy in a jupyter notebok. In practice I usually have a window on the left with a file that contains my functions, a window on the right that contains my tests and a window at the bottom where I run the tests using a test runner. A test runner is a program that looks for the tests you have written and runs all that it can find. I usually use pytest, which I run from the terminal at the bottom."
   ]
  },
  {
   "cell_type": "markdown",
   "metadata": {},
   "source": [
    "![TDD_setup](TDD_Setup.png)"
   ]
  },
  {
   "cell_type": "markdown",
   "metadata": {},
   "source": [
    "For this exact setup to work, 3 things need to be taken care of:\n",
    "- the function name of all tests needs to start with `test_`\n",
    "- the file with the functions and the tests need to be in the same folder\n",
    "- the terminal needs to be in the same folder as both the functions and tests file\n",
    "\n",
    "In a setup like this you can quite easily write a test, run it, write a function, run the tests, write a test..."
   ]
  },
  {
   "cell_type": "markdown",
   "metadata": {},
   "source": [
    "Many integrated development environments (IDE's) make it very easy to arrange this kind of setup (similar to jupyter-lab in this case)."
   ]
  },
  {
   "cell_type": "markdown",
   "metadata": {},
   "source": [
    "### The notebook way"
   ]
  },
  {
   "cell_type": "markdown",
   "metadata": {},
   "source": [
    "To continue with this notebook I will use a version of pytest that can be run inside this notebook: ipytest\n",
    "\n",
    "Like pytest itself, it needs to be installed first. It is not available in conda but can be installed using pip (the project page will tell you how if you are not familiar with pip: https://github.com/chmp/ipytest)\n",
    "\n",
    "After installing it needs to be imported and configured:"
   ]
  },
  {
   "cell_type": "code",
   "execution_count": 23,
   "metadata": {},
   "outputs": [],
   "source": [
    "import ipytest\n",
    "ipytest.config(rewrite_asserts=True, magics=True)\n",
    "\n",
    "__file__ = \"TDD_course.ipynb\""
   ]
  },
  {
   "cell_type": "markdown",
   "metadata": {},
   "source": [
    "Then we can run all previously defined tests with this command:"
   ]
  },
  {
   "cell_type": "code",
   "execution_count": 24,
   "metadata": {},
   "outputs": [
    {
     "name": "stdout",
     "output_type": "stream",
     "text": [
      "============================= test session starts ==============================\n",
      "platform linux -- Python 3.6.8, pytest-4.4.0, py-1.8.0, pluggy-0.9.0\n",
      "hypothesis profile 'default' -> database=DirectoryBasedExampleDatabase('/home/simon/LRZ Sync+Share/Super python/TDD_SoSe_2019/.hypothesis/examples')\n",
      "rootdir: /home/simon/LRZ Sync+Share/Super python/TDD_SoSe_2019\n",
      "plugins: mock-1.10.1, hypothesis-4.10.0\n",
      "collected 4 items\n",
      "\n",
      "TDD_course.py ...F                                                       [100%]\n",
      "\n",
      "=================================== FAILURES ===================================\n",
      "________________________________ test_add_three ________________________________\n",
      "\n",
      "    def test_add_three():\n",
      "        x = 1\n",
      ">       assert add_three(x) == 4\n",
      "E       AssertionError\n",
      "\n",
      "<ipython-input-7-4fcc58331b00>:3: AssertionError\n",
      "====================== 1 failed, 3 passed in 0.18 seconds ======================\n"
     ]
    }
   ],
   "source": [
    "ipytest.run()"
   ]
  },
  {
   "cell_type": "markdown",
   "metadata": {},
   "source": [
    "We get a nice summary of the results (when you run pytest from a terminal it will even have colors, which i.m.o. makes this way better). How many tests we ran, which ones failed and where exactly it fails. This is very helpful."
   ]
  },
  {
   "cell_type": "markdown",
   "metadata": {},
   "source": [
    "# Practical 1: write your first test function"
   ]
  },
  {
   "cell_type": "markdown",
   "metadata": {},
   "source": [
    "At this point, you can try for yourself how this feels. If you are using the usual setup, great; if you continue with the notebook, I would recommend just using two cells: one with the tests and one with the function. You can run the tests every time you execute one of the cells by making use of an ipython magic command from pytest at the beginning of the cell. This will run the your tests everytime you execute either of the cells so you can just bounce back and force between the two and code away (the reloading of the tests causes some warnings which is why I have disabled them. Again, notebooks are as of now not an ideal setup)."
   ]
  },
  {
   "cell_type": "code",
   "execution_count": 25,
   "metadata": {},
   "outputs": [
    {
     "name": "stdout",
     "output_type": "stream",
     "text": [
      "============================= test session starts ==============================\n",
      "platform linux -- Python 3.6.8, pytest-4.4.0, py-1.8.0, pluggy-0.9.0\n",
      "hypothesis profile 'default' -> database=DirectoryBasedExampleDatabase('/home/simon/LRZ Sync+Share/Super python/TDD_SoSe_2019/.hypothesis/examples')\n",
      "rootdir: /home/simon/LRZ Sync+Share/Super python/TDD_SoSe_2019\n",
      "plugins: mock-1.10.1, hypothesis-4.10.0\n",
      "collected 1 item\n",
      "\n",
      "TDD_course.py F                                                          [100%]\n",
      "\n",
      "=================================== FAILURES ===================================\n",
      "_______________________________ test_myfunction ________________________________\n",
      "\n",
      "    def test_myfunction():\n",
      ">       assert myfunction()\n",
      "E       NameError: name 'myfunction' is not defined\n",
      "\n",
      "<ipython-input-25-ef7503375bab>:3: NameError\n",
      "===================== 1 failed, 3 warnings in 0.08 seconds =====================\n"
     ]
    }
   ],
   "source": [
    "%%run_pytest[clean] --disable-warnings\n",
    "\n",
    "def test_myfunction():\n",
    "    assert myfunction()"
   ]
  },
  {
   "cell_type": "code",
   "execution_count": 26,
   "metadata": {},
   "outputs": [
    {
     "name": "stdout",
     "output_type": "stream",
     "text": [
      "============================= test session starts ==============================\n",
      "platform linux -- Python 3.6.8, pytest-4.4.0, py-1.8.0, pluggy-0.9.0\n",
      "hypothesis profile 'default' -> database=DirectoryBasedExampleDatabase('/home/simon/LRZ Sync+Share/Super python/TDD_SoSe_2019/.hypothesis/examples')\n",
      "rootdir: /home/simon/LRZ Sync+Share/Super python/TDD_SoSe_2019\n",
      "plugins: mock-1.10.1, hypothesis-4.10.0\n",
      "collected 1 item\n",
      "\n",
      "TDD_course.py .                                                          [100%]\n",
      "\n",
      "===================== 1 passed, 3 warnings in 0.04 seconds =====================\n"
     ]
    }
   ],
   "source": [
    "%%run_pytest --disable-warnings\n",
    "\n",
    "def myfunction():\n",
    "    return True"
   ]
  },
  {
   "cell_type": "markdown",
   "metadata": {},
   "source": [
    "### Here are three scenarios that you could code using TDD, depending on your preference and expertise:\n",
    "- write a function that computes the standard deviation of list of values: you give it the list and it returns the std\n",
    "- write a function that loads a string from a file: you give it the filename and it returns the string\n",
    "- write a function that orders numbers in a list: you give it an unordered list and it returns an ordered list"
   ]
  },
  {
   "cell_type": "markdown",
   "metadata": {},
   "source": [
    "# More TDD features"
   ]
  },
  {
   "cell_type": "markdown",
   "metadata": {},
   "source": [
    "### Refactoring (making your code better without canging its function)"
   ]
  },
  {
   "cell_type": "markdown",
   "metadata": {},
   "source": [
    "If we continue with our example above we will at some point arrive at the following state:"
   ]
  },
  {
   "cell_type": "code",
   "execution_count": 27,
   "metadata": {},
   "outputs": [],
   "source": [
    "ipytest.clean_tests() # clearing tests from your practical example from memory"
   ]
  },
  {
   "cell_type": "code",
   "execution_count": 28,
   "metadata": {},
   "outputs": [],
   "source": [
    "def test_string_to_number_1():\n",
    "    mystring = '1'\n",
    "    assert string_to_number(mystring) == 1\n",
    "def test_string_to_number_2():\n",
    "    mystring = '2'\n",
    "    assert string_to_number(mystring) == 2\n",
    "def test_string_to_number_3():\n",
    "    mystring = '3'\n",
    "    assert string_to_number(mystring) == 3\n",
    "def test_string_to_number_4():\n",
    "    mystring = '4'\n",
    "    assert string_to_number(mystring) == 4\n",
    "def test_string_to_number_5():\n",
    "    mystring = '5'\n",
    "    assert string_to_number(mystring) == 5\n",
    "def test_string_to_number_6():\n",
    "    mystring = '6'\n",
    "    assert string_to_number(mystring) == 6"
   ]
  },
  {
   "cell_type": "code",
   "execution_count": 29,
   "metadata": {},
   "outputs": [
    {
     "name": "stdout",
     "output_type": "stream",
     "text": [
      "============================= test session starts ==============================\n",
      "platform linux -- Python 3.6.8, pytest-4.4.0, py-1.8.0, pluggy-0.9.0\n",
      "hypothesis profile 'default' -> database=DirectoryBasedExampleDatabase('/home/simon/LRZ Sync+Share/Super python/TDD_SoSe_2019/.hypothesis/examples')\n",
      "rootdir: /home/simon/LRZ Sync+Share/Super python/TDD_SoSe_2019\n",
      "plugins: mock-1.10.1, hypothesis-4.10.0\n",
      "collected 6 items\n",
      "\n",
      "TDD_course.py ......                                                     [100%]\n",
      "\n",
      "===================== 6 passed, 3 warnings in 0.06 seconds =====================\n"
     ]
    }
   ],
   "source": [
    "%%run_pytest --disable-warnings\n",
    "def string_to_number(mystring):\n",
    "    if mystring=='1':\n",
    "        return 1\n",
    "    elif mystring=='2':\n",
    "        return 2\n",
    "    elif mystring=='3':\n",
    "        return 3\n",
    "    elif mystring=='4':\n",
    "        return 4\n",
    "    elif mystring=='5':\n",
    "        return 5\n",
    "    elif mystring=='6':\n",
    "        return 6"
   ]
  },
  {
   "cell_type": "markdown",
   "metadata": {},
   "source": [
    "We have added more numbers and more `if` statements. If we continue like this, our function get's very long. Perhaps we could use a dictionary to make things shorter. We modify the code and then run our tests."
   ]
  },
  {
   "cell_type": "code",
   "execution_count": 30,
   "metadata": {},
   "outputs": [
    {
     "name": "stdout",
     "output_type": "stream",
     "text": [
      "============================= test session starts ==============================\n",
      "platform linux -- Python 3.6.8, pytest-4.4.0, py-1.8.0, pluggy-0.9.0\n",
      "hypothesis profile 'default' -> database=DirectoryBasedExampleDatabase('/home/simon/LRZ Sync+Share/Super python/TDD_SoSe_2019/.hypothesis/examples')\n",
      "rootdir: /home/simon/LRZ Sync+Share/Super python/TDD_SoSe_2019\n",
      "plugins: mock-1.10.1, hypothesis-4.10.0\n",
      "collected 6 items\n",
      "\n",
      "TDD_course.py ......                                                     [100%]\n",
      "\n",
      "===================== 6 passed, 3 warnings in 0.07 seconds =====================\n"
     ]
    }
   ],
   "source": [
    "%%run_pytest --disable-warnings\n",
    "\n",
    "def string_to_number(mystring):\n",
    "    lookup_dict = {'1': 1,\n",
    "                   '2': 2,\n",
    "                   '3': 3,\n",
    "                   '4': 4,\n",
    "                   '5': 5,\n",
    "                   '6': 6,}\n",
    "    return lookup_dict[mystring]"
   ]
  },
  {
   "cell_type": "markdown",
   "metadata": {},
   "source": [
    "They all pass, great. This is one very powerful feature of TDD: At first, you focus on writing code that does what you want. It does not have to be perfect or elegant but it *has* to do what you want. Then you can always refine things in your code to make it better while always having the guarantee that the functionality you wanted before is still there as long as your tests pass."
   ]
  },
  {
   "cell_type": "markdown",
   "metadata": {},
   "source": [
    "### Extending functionality"
   ]
  },
  {
   "cell_type": "markdown",
   "metadata": {},
   "source": [
    "The other powerful feature of TDD is that 1) you will only add functionality when you really need it and 2) you will do so very consciously. This makes you spend less time on things that you don't really need yet and minimizes mistakes. In our case you can imagine that we arrive at this setup:"
   ]
  },
  {
   "cell_type": "code",
   "execution_count": 31,
   "metadata": {},
   "outputs": [],
   "source": [
    "ipytest.clean_tests()"
   ]
  },
  {
   "cell_type": "code",
   "execution_count": 32,
   "metadata": {},
   "outputs": [],
   "source": [
    "def test_string_to_number_1():\n",
    "    mystring = '1'\n",
    "    assert string_to_number(mystring) == 1\n",
    "def test_string_to_number_2():\n",
    "    mystring = '2'\n",
    "    assert string_to_number(mystring) == 2\n",
    "def test_string_to_number_3():\n",
    "    mystring = '3'\n",
    "    assert string_to_number(mystring) == 3\n",
    "def test_string_to_number_4():\n",
    "    mystring = '4'\n",
    "    assert string_to_number(mystring) == 4\n",
    "def test_string_to_number_5():\n",
    "    mystring = '5'\n",
    "    assert string_to_number(mystring) == 5\n",
    "def test_string_to_number_6():\n",
    "    mystring = '6'\n",
    "    assert string_to_number(mystring) == 6\n",
    "def test_string_to_number_7():\n",
    "    mystring = '7'\n",
    "    assert string_to_number(mystring) == 7\n",
    "def test_string_to_number_8():\n",
    "    mystring = '8'\n",
    "    assert string_to_number(mystring) == 8\n",
    "def test_string_to_number_9():\n",
    "    mystring = '9'\n",
    "    assert string_to_number(mystring) == 9\n",
    "def test_string_to_number_0():\n",
    "    mystring = '0'\n",
    "    assert string_to_number(mystring) == 0"
   ]
  },
  {
   "cell_type": "code",
   "execution_count": 33,
   "metadata": {},
   "outputs": [
    {
     "name": "stdout",
     "output_type": "stream",
     "text": [
      "============================= test session starts ==============================\n",
      "platform linux -- Python 3.6.8, pytest-4.4.0, py-1.8.0, pluggy-0.9.0\n",
      "hypothesis profile 'default' -> database=DirectoryBasedExampleDatabase('/home/simon/LRZ Sync+Share/Super python/TDD_SoSe_2019/.hypothesis/examples')\n",
      "rootdir: /home/simon/LRZ Sync+Share/Super python/TDD_SoSe_2019\n",
      "plugins: mock-1.10.1, hypothesis-4.10.0\n",
      "collected 10 items\n",
      "\n",
      "TDD_course.py ..........                                                 [100%]\n",
      "\n",
      "==================== 10 passed, 3 warnings in 0.06 seconds =====================\n"
     ]
    }
   ],
   "source": [
    "%%run_pytest --disable-warnings\n",
    "\n",
    "def string_to_number(mystring):\n",
    "    lookup_dict = {'1': 1,\n",
    "                   '2': 2,\n",
    "                   '3': 3,\n",
    "                   '4': 4,\n",
    "                   '5': 5,\n",
    "                   '6': 6,\n",
    "                   '7': 7,\n",
    "                   '8': 8,\n",
    "                   '9': 9,\n",
    "                   '0': 0}\n",
    "    return lookup_dict[mystring]"
   ]
  },
  {
   "cell_type": "markdown",
   "metadata": {},
   "source": [
    "This function works pretty nicely and has a couple of nice tests. We could now think of extending it to double-digit strings. Let's write a test and run our tests."
   ]
  },
  {
   "cell_type": "code",
   "execution_count": 34,
   "metadata": {},
   "outputs": [
    {
     "name": "stdout",
     "output_type": "stream",
     "text": [
      "============================= test session starts ==============================\n",
      "platform linux -- Python 3.6.8, pytest-4.4.0, py-1.8.0, pluggy-0.9.0\n",
      "hypothesis profile 'default' -> database=DirectoryBasedExampleDatabase('/home/simon/LRZ Sync+Share/Super python/TDD_SoSe_2019/.hypothesis/examples')\n",
      "rootdir: /home/simon/LRZ Sync+Share/Super python/TDD_SoSe_2019\n",
      "plugins: mock-1.10.1, hypothesis-4.10.0\n",
      "collected 11 items\n",
      "\n",
      "TDD_course.py ..........F                                                [100%]\n",
      "\n",
      "=================================== FAILURES ===================================\n",
      "______________________ test_string_to_number_double_digit ______________________\n",
      "\n",
      "    def test_string_to_number_double_digit():\n",
      "        mystring = '10'\n",
      ">       assert string_to_number(mystring) == 10\n",
      "\n",
      "<ipython-input-34-4fef8196ea94>:4: \n",
      "_ _ _ _ _ _ _ _ _ _ _ _ _ _ _ _ _ _ _ _ _ _ _ _ _ _ _ _ _ _ _ _ _ _ _ _ _ _ _ _ \n",
      "\n",
      "mystring = '10'\n",
      "\n",
      "    def string_to_number(mystring):\n",
      "        lookup_dict = {'1': 1,\n",
      "                       '2': 2,\n",
      "                       '3': 3,\n",
      "                       '4': 4,\n",
      "                       '5': 5,\n",
      "                       '6': 6,\n",
      "                       '7': 7,\n",
      "                       '8': 8,\n",
      "                       '9': 9,\n",
      "                       '0': 0}\n",
      ">       return lookup_dict[mystring]\n",
      "E       KeyError: '10'\n",
      "\n",
      "<ipython-input-33-d3a8be3514e4>:13: KeyError\n",
      "=============== 1 failed, 10 passed, 3 warnings in 0.17 seconds ================\n"
     ]
    }
   ],
   "source": [
    "%%run_pytest --disable-warnings\n",
    "\n",
    "def test_string_to_number_double_digit():\n",
    "    mystring = '10'\n",
    "    assert string_to_number(mystring) == 10"
   ]
  },
  {
   "cell_type": "markdown",
   "metadata": {},
   "source": [
    "We fix the error"
   ]
  },
  {
   "cell_type": "code",
   "execution_count": 35,
   "metadata": {},
   "outputs": [
    {
     "name": "stdout",
     "output_type": "stream",
     "text": [
      "============================= test session starts ==============================\n",
      "platform linux -- Python 3.6.8, pytest-4.4.0, py-1.8.0, pluggy-0.9.0\n",
      "hypothesis profile 'default' -> database=DirectoryBasedExampleDatabase('/home/simon/LRZ Sync+Share/Super python/TDD_SoSe_2019/.hypothesis/examples')\n",
      "rootdir: /home/simon/LRZ Sync+Share/Super python/TDD_SoSe_2019\n",
      "plugins: mock-1.10.1, hypothesis-4.10.0\n",
      "collected 11 items\n",
      "\n",
      "TDD_course.py ...........                                                [100%]\n",
      "\n",
      "==================== 11 passed, 3 warnings in 0.11 seconds =====================\n"
     ]
    }
   ],
   "source": [
    "%%run_pytest --disable-warnings\n",
    "\n",
    "def string_to_number(mystring):\n",
    "    lookup_dict = {'1': 1,\n",
    "                   '2': 2,\n",
    "                   '3': 3,\n",
    "                   '4': 4,\n",
    "                   '5': 5,\n",
    "                   '6': 6,\n",
    "                   '7': 7,\n",
    "                   '8': 8,\n",
    "                   '9': 9,\n",
    "                   '0': 0,\n",
    "                   '10': 10}\n",
    "    return lookup_dict[mystring]"
   ]
  },
  {
   "cell_type": "markdown",
   "metadata": {},
   "source": [
    "But then we already realize that if we continue like this we have to create an infinitely large lookup dictionary. Instead we decide to take advantage of how the decimal system works and the fact that strings can be indexed:"
   ]
  },
  {
   "cell_type": "code",
   "execution_count": 36,
   "metadata": {},
   "outputs": [
    {
     "name": "stdout",
     "output_type": "stream",
     "text": [
      "============================= test session starts ==============================\n",
      "platform linux -- Python 3.6.8, pytest-4.4.0, py-1.8.0, pluggy-0.9.0\n",
      "hypothesis profile 'default' -> database=DirectoryBasedExampleDatabase('/home/simon/LRZ Sync+Share/Super python/TDD_SoSe_2019/.hypothesis/examples')\n",
      "rootdir: /home/simon/LRZ Sync+Share/Super python/TDD_SoSe_2019\n",
      "plugins: mock-1.10.1, hypothesis-4.10.0\n",
      "collected 11 items\n",
      "\n",
      "TDD_course.py ...........                                                [100%]\n",
      "\n",
      "==================== 11 passed, 3 warnings in 0.08 seconds =====================\n"
     ]
    }
   ],
   "source": [
    "%%run_pytest --disable-warnings\n",
    "\n",
    "def string_to_number(mystring):\n",
    "    lookup_dict = {'1': 1,\n",
    "                   '2': 2,\n",
    "                   '3': 3,\n",
    "                   '4': 4,\n",
    "                   '5': 5,\n",
    "                   '6': 6,\n",
    "                   '7': 7,\n",
    "                   '8': 8,\n",
    "                   '9': 9,\n",
    "                   '0': 0}\n",
    "    if len(mystring) == 1:\n",
    "        return lookup_dict[mystring]\n",
    "    elif len(mystring) == 2:\n",
    "        return lookup_dict[mystring[0]]*10 + lookup_dict[mystring[1]]"
   ]
  },
  {
   "cell_type": "markdown",
   "metadata": {},
   "source": [
    "Nice, we refactored our code and extended functionality at the same time (I actually made three errors when updating this code which the tests pointed out right away, yeah TDD!). Of course this functionality now actually exceeds our tests as it should work for all double-digit strings but we have only tested '10'. We notice at this point that it will usually not be possible to cover *all* test cases. The goal should rather be to test everything that follows the *same principle*. It is up to us to realize which test cases are enough to cover a principle. In our case, one double-digit string could already be enough. However, I would generally recommend to use at least two different example test cases for the same principle as  you sometimes just get \"luck\" and the chosen numbers in your example happen to work out but another set just doesn't (happened to me a couple of times and took me quite a while to realize this). We thus add another test."
   ]
  },
  {
   "cell_type": "code",
   "execution_count": 37,
   "metadata": {},
   "outputs": [
    {
     "name": "stdout",
     "output_type": "stream",
     "text": [
      "============================= test session starts ==============================\n",
      "platform linux -- Python 3.6.8, pytest-4.4.0, py-1.8.0, pluggy-0.9.0\n",
      "hypothesis profile 'default' -> database=DirectoryBasedExampleDatabase('/home/simon/LRZ Sync+Share/Super python/TDD_SoSe_2019/.hypothesis/examples')\n",
      "rootdir: /home/simon/LRZ Sync+Share/Super python/TDD_SoSe_2019\n",
      "plugins: mock-1.10.1, hypothesis-4.10.0\n",
      "collected 11 items\n",
      "\n",
      "TDD_course.py ...........                                                [100%]\n",
      "\n",
      "==================== 11 passed, 3 warnings in 0.09 seconds =====================\n"
     ]
    }
   ],
   "source": [
    "%%run_pytest --disable-warnings\n",
    "\n",
    "def test_string_to_number_double_digit():\n",
    "    mystring = '76'\n",
    "    assert string_to_number(mystring) == 76"
   ]
  },
  {
   "cell_type": "markdown",
   "metadata": {},
   "source": [
    "At this point we are pretty confident things are working. Time to continue with the practical stuff."
   ]
  },
  {
   "cell_type": "markdown",
   "metadata": {},
   "source": [
    "# Practical 2: extending and refactoring\n",
    "\n",
    "- Standard deviation\n",
    "    - Factor out the part of your that computes the mean into its own function with tests\n",
    "    - Extend your function so it can compute the std of nested lists (similar to np.mean across different axes)\n",
    "- File reading\n",
    "    - Have your function find your file even when they are in different folders\n",
    "    - Extend your function so it can convert table of strings (tabs to form columns and new lines to form rows in the file) into a nested list\n",
    "- Sorting\n",
    "    - Extend your function so it is also able to sort letters alphabetically\n",
    "    - Enable your function to deal with mixed lists of numbers and letters\n",
    "    - Have the function return a count of how many times a number occured in case the list contains one number multiple times"
   ]
  },
  {
   "cell_type": "code",
   "execution_count": null,
   "metadata": {},
   "outputs": [],
   "source": [
    "%%run_pytest[clean] --disable-warnings\n",
    "\n",
    "def test_myfunction():\n",
    "    assert myfunction()"
   ]
  },
  {
   "cell_type": "code",
   "execution_count": null,
   "metadata": {},
   "outputs": [],
   "source": [
    "%%run_pytest --disable-warnings\n",
    "\n",
    "def myfunction():\n",
    "    return True"
   ]
  },
  {
   "cell_type": "markdown",
   "metadata": {},
   "source": [
    "# More TDD features"
   ]
  },
  {
   "cell_type": "markdown",
   "metadata": {},
   "source": [
    "### Testing errors and warnings\n",
    "\n",
    "Sometimes we know that our function to *not* do something but instead raise an error or warning. Testing for this can be done elegantly with pytest. By now we notice that we have not defined what our funciton should do if someone enters a tripple-digit string. We decide it should raise an error telling the person that the function only works with single or double-digit strings. We write add a test for this in the following fashion."
   ]
  },
  {
   "cell_type": "code",
   "execution_count": 38,
   "metadata": {},
   "outputs": [
    {
     "name": "stdout",
     "output_type": "stream",
     "text": [
      "============================= test session starts ==============================\n",
      "platform linux -- Python 3.6.8, pytest-4.4.0, py-1.8.0, pluggy-0.9.0\n",
      "hypothesis profile 'default' -> database=DirectoryBasedExampleDatabase('/home/simon/LRZ Sync+Share/Super python/TDD_SoSe_2019/.hypothesis/examples')\n",
      "rootdir: /home/simon/LRZ Sync+Share/Super python/TDD_SoSe_2019\n",
      "plugins: mock-1.10.1, hypothesis-4.10.0\n",
      "collected 11 items\n",
      "\n",
      "TDD_course.py ..........F                                                [100%]\n",
      "\n",
      "=================================== FAILURES ===================================\n",
      "______________________ test_string_to_number_double_digit ______________________\n",
      "\n",
      "    def test_string_to_number_double_digit():\n",
      "        mystring = '100'\n",
      "        from pytest import raises\n",
      "        with raises(TypeError):\n",
      ">           string_to_number(mystring)\n",
      "E           Failed: DID NOT RAISE <class 'TypeError'>\n",
      "\n",
      "<ipython-input-38-2f254037692c>:6: Failed\n",
      "=============== 1 failed, 10 passed, 3 warnings in 0.13 seconds ================\n"
     ]
    }
   ],
   "source": [
    "%%run_pytest --disable-warnings\n",
    "\n",
    "def test_string_to_number_double_digit():\n",
    "    mystring = '100'\n",
    "    from pytest import raises\n",
    "    with raises(TypeError):\n",
    "        string_to_number(mystring)"
   ]
  },
  {
   "cell_type": "markdown",
   "metadata": {},
   "source": [
    "This way pytest checks if the function raises an error for that particular string and tells us that it did not. We fix the error by modifying our function to do so with a nice error message that will tell people what went wrong."
   ]
  },
  {
   "cell_type": "code",
   "execution_count": 39,
   "metadata": {},
   "outputs": [
    {
     "name": "stdout",
     "output_type": "stream",
     "text": [
      "============================= test session starts ==============================\n",
      "platform linux -- Python 3.6.8, pytest-4.4.0, py-1.8.0, pluggy-0.9.0\n",
      "hypothesis profile 'default' -> database=DirectoryBasedExampleDatabase('/home/simon/LRZ Sync+Share/Super python/TDD_SoSe_2019/.hypothesis/examples')\n",
      "rootdir: /home/simon/LRZ Sync+Share/Super python/TDD_SoSe_2019\n",
      "plugins: mock-1.10.1, hypothesis-4.10.0\n",
      "collected 11 items\n",
      "\n",
      "TDD_course.py ...........                                                [100%]\n",
      "\n",
      "==================== 11 passed, 3 warnings in 0.08 seconds =====================\n"
     ]
    }
   ],
   "source": [
    "%%run_pytest --disable-warnings\n",
    "\n",
    "def string_to_number(mystring):\n",
    "    lookup_dict = {'1': 1,\n",
    "                   '2': 2,\n",
    "                   '3': 3,\n",
    "                   '4': 4,\n",
    "                   '5': 5,\n",
    "                   '6': 6,\n",
    "                   '7': 7,\n",
    "                   '8': 8,\n",
    "                   '9': 9,\n",
    "                   '0': 0}\n",
    "    if len(mystring) == 1:\n",
    "        return lookup_dict[mystring]\n",
    "    elif len(mystring) == 2:\n",
    "        return lookup_dict[mystring[0]]*10 + lookup_dict[mystring[1]]\n",
    "    else:\n",
    "        raise TypeError('Invalid string supplied; only single or double-digit strings allowed.')"
   ]
  },
  {
   "cell_type": "markdown",
   "metadata": {},
   "source": [
    "We now have a pretty well rounded function with a nice test suite. The test suite will help if we want to extend further an serve as a \"living\" documentation of what this function can do.\n",
    "\n",
    "This was a first dip into unit testing and test-driven development. We covered a lot of things but of course there are much more tricks and things you can do. I can recommend the book by Harry Percival (https://www.obeythetestinggoat.com/) for further reading. Of course there is material a plenty on the web that you can read and little \"coding katas\" (example coding task that you can do to practice) that will help you improve. Ultimately, I believe that every bit of TDD you use will help you and make your code a little better."
   ]
  }
 ],
 "metadata": {
  "kernelspec": {
   "display_name": "Python 3",
   "language": "python",
   "name": "python3"
  },
  "language_info": {
   "codemirror_mode": {
    "name": "ipython",
    "version": 3
   },
   "file_extension": ".py",
   "mimetype": "text/x-python",
   "name": "python",
   "nbconvert_exporter": "python",
   "pygments_lexer": "ipython3",
   "version": "3.6.8"
  }
 },
 "nbformat": 4,
 "nbformat_minor": 2
}
